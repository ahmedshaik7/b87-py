{
 "cells": [
  {
   "cell_type": "code",
   "execution_count": 1,
   "id": "3a4bc826-0c57-4969-9091-b727131ccc5a",
   "metadata": {},
   "outputs": [
    {
     "name": "stdout",
     "output_type": "stream",
     "text": [
      "ahmed\n"
     ]
    }
   ],
   "source": [
    "fn=\"ahmed\"\n",
    "ln=\"shaik\"\n",
    "print(fn)"
   ]
  },
  {
   "cell_type": "code",
   "execution_count": 5,
   "id": "c7ed5090-41ca-4dca-a51a-9d34222818ad",
   "metadata": {},
   "outputs": [
    {
     "name": "stdout",
     "output_type": "stream",
     "text": [
      "My full name is Ahmed Shaik\n"
     ]
    }
   ],
   "source": [
    "fulln=f\"{fn} {ln}\"\n",
    "msg = f\"My full name is {fulln.title()}\"\n",
    "print(msg)"
   ]
  },
  {
   "cell_type": "code",
   "execution_count": 6,
   "id": "9095e580-f097-498b-b343-8778f8f33dd6",
   "metadata": {},
   "outputs": [
    {
     "name": "stdout",
     "output_type": "stream",
     "text": [
      " apple\n",
      "banana.  \n",
      "   grapes. \n"
     ]
    }
   ],
   "source": [
    "a = \" apple\"\n",
    "b = \"banana.  \"\n",
    "c = \"   grapes. \"\n",
    "print(a)\n",
    "print(b)\n",
    "print(c)"
   ]
  },
  {
   "cell_type": "code",
   "execution_count": 7,
   "id": "774e0a0b-66c0-401e-a419-0a40f57baf07",
   "metadata": {},
   "outputs": [
    {
     "name": "stdout",
     "output_type": "stream",
     "text": [
      "apple\n",
      "banana.\n",
      "grapes.\n"
     ]
    }
   ],
   "source": [
    "a = \" apple\"\n",
    "b = \"banana.  \"\n",
    "c = \"   grapes. \"\n",
    "print(a.lstrip())\n",
    "print(b.rstrip())\n",
    "print(c.strip())"
   ]
  },
  {
   "cell_type": "code",
   "execution_count": 8,
   "id": "974fc326-ec98-4229-8b2d-de20ea2c733a",
   "metadata": {},
   "outputs": [
    {
     "name": "stdout",
     "output_type": "stream",
     "text": [
      "The Zen of Python, by Tim Peters\n",
      "\n",
      "Beautiful is better than ugly.\n",
      "Explicit is better than implicit.\n",
      "Simple is better than complex.\n",
      "Complex is better than complicated.\n",
      "Flat is better than nested.\n",
      "Sparse is better than dense.\n",
      "Readability counts.\n",
      "Special cases aren't special enough to break the rules.\n",
      "Although practicality beats purity.\n",
      "Errors should never pass silently.\n",
      "Unless explicitly silenced.\n",
      "In the face of ambiguity, refuse the temptation to guess.\n",
      "There should be one-- and preferably only one --obvious way to do it.\n",
      "Although that way may not be obvious at first unless you're Dutch.\n",
      "Now is better than never.\n",
      "Although never is often better than *right* now.\n",
      "If the implementation is hard to explain, it's a bad idea.\n",
      "If the implementation is easy to explain, it may be a good idea.\n",
      "Namespaces are one honking great idea -- let's do more of those!\n"
     ]
    }
   ],
   "source": [
    "import this"
   ]
  },
  {
   "cell_type": "code",
   "execution_count": 9,
   "id": "9f8fa5c1-0663-4130-a9f7-0efba5be90f2",
   "metadata": {},
   "outputs": [
    {
     "name": "stdout",
     "output_type": "stream",
     "text": [
      "pythontraining0101@gmail.com\n"
     ]
    }
   ],
   "source": [
    "email = \"pythontraining0101@gmail.com\"\n",
    "print (email)"
   ]
  },
  {
   "cell_type": "code",
   "execution_count": null,
   "id": "4fc4e268-41a5-4c9e-8470-758a0f4a0ce3",
   "metadata": {},
   "outputs": [],
   "source": []
  }
 ],
 "metadata": {
  "kernelspec": {
   "display_name": "Python [conda env:base] *",
   "language": "python",
   "name": "conda-base-py"
  },
  "language_info": {
   "codemirror_mode": {
    "name": "ipython",
    "version": 3
   },
   "file_extension": ".py",
   "mimetype": "text/x-python",
   "name": "python",
   "nbconvert_exporter": "python",
   "pygments_lexer": "ipython3",
   "version": "3.13.5"
  }
 },
 "nbformat": 4,
 "nbformat_minor": 5
}
