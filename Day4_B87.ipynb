{
 "cells": [
  {
   "cell_type": "code",
   "execution_count": 28,
   "id": "c64fe698-f3b0-4b3f-be68-1447ae00375b",
   "metadata": {},
   "outputs": [
    {
     "name": "stdout",
     "output_type": "stream",
     "text": [
      "['banana', 'apple', 'mango']\n"
     ]
    }
   ],
   "source": [
    "fruites = ['banana', 'apple', 'mango']\n",
    "print(fruites)"
   ]
  },
  {
   "cell_type": "code",
   "execution_count": 29,
   "id": "45471de6-1bcf-49ce-8d2b-22a1da5865e6",
   "metadata": {},
   "outputs": [
    {
     "name": "stdout",
     "output_type": "stream",
     "text": [
      "['banana', 'apple', 'mango', 'pineapple', 'grapes']\n"
     ]
    }
   ],
   "source": [
    "fruites.append('pineapple')\n",
    "fruites.append('grapes')\n",
    "print(fruites)"
   ]
  },
  {
   "cell_type": "code",
   "execution_count": 30,
   "id": "2e0a3040-78b6-40be-aa19-3eb809b37fe2",
   "metadata": {},
   "outputs": [
    {
     "name": "stdout",
     "output_type": "stream",
     "text": [
      "['straberry', 'banana', 'apple', 'mango', 'pineapple', 'grapes']\n",
      "['cherry', 'straberry', 'banana', 'apple', 'mango', 'pineapple', 'grapes']\n"
     ]
    }
   ],
   "source": [
    "fruites.insert(0,'straberry')\n",
    "print(fruites)\n",
    "fruites.insert(0,'cherry')\n",
    "print(fruites)"
   ]
  },
  {
   "cell_type": "code",
   "execution_count": null,
   "id": "395fa920-e4d5-4e49-854f-28ec601810d5",
   "metadata": {},
   "outputs": [],
   "source": []
  },
  {
   "cell_type": "code",
   "execution_count": 32,
   "id": "58cc66da-9155-4387-a6a0-560b33d0f6af",
   "metadata": {},
   "outputs": [],
   "source": [
    "del fruites[0]"
   ]
  },
  {
   "cell_type": "code",
   "execution_count": 33,
   "id": "26482584-40a8-49d7-96a4-36386393d3af",
   "metadata": {},
   "outputs": [
    {
     "name": "stdout",
     "output_type": "stream",
     "text": [
      "['straberry', 'banana', 'apple', 'mango', 'pineapple', 'grapes']\n"
     ]
    }
   ],
   "source": [
    "print(fruites)"
   ]
  },
  {
   "cell_type": "code",
   "execution_count": 34,
   "id": "90ab1783-97f2-4190-8c31-93c6154990f1",
   "metadata": {},
   "outputs": [],
   "source": [
    "del fruites[len(fruites)-1]"
   ]
  },
  {
   "cell_type": "code",
   "execution_count": 35,
   "id": "4b1b1e38-fe64-4466-adaa-c01d8cd94c07",
   "metadata": {},
   "outputs": [
    {
     "name": "stdout",
     "output_type": "stream",
     "text": [
      "['straberry', 'banana', 'apple', 'mango', 'pineapple']\n"
     ]
    }
   ],
   "source": [
    "print(fruites)"
   ]
  },
  {
   "cell_type": "code",
   "execution_count": 36,
   "id": "5d6e7ef6-1a70-4fff-a959-ada07f6312dd",
   "metadata": {},
   "outputs": [
    {
     "name": "stdout",
     "output_type": "stream",
     "text": [
      "['straberry', 'banana', 'apple', 'mango', 'pineapple']\n"
     ]
    }
   ],
   "source": [
    "print(fruites)"
   ]
  },
  {
   "cell_type": "code",
   "execution_count": 37,
   "id": "6dd067c8-2a04-49ee-b900-bcea8d23fe0d",
   "metadata": {},
   "outputs": [
    {
     "name": "stdout",
     "output_type": "stream",
     "text": [
      "['straberry', 'guva', 'apple', 'mango', 'pineapple']\n"
     ]
    }
   ],
   "source": [
    "fruites[1] = 'guva'\n",
    "print(fruites)"
   ]
  },
  {
   "cell_type": "code",
   "execution_count": 38,
   "id": "498fa943-0800-4b6b-891b-b09d6cba5f5e",
   "metadata": {},
   "outputs": [
    {
     "name": "stdout",
     "output_type": "stream",
     "text": [
      "5\n"
     ]
    }
   ],
   "source": [
    "print(len(fruites))"
   ]
  },
  {
   "cell_type": "code",
   "execution_count": null,
   "id": "e2954744-8412-40d7-84c9-ec8bdb5cb77b",
   "metadata": {},
   "outputs": [],
   "source": []
  }
 ],
 "metadata": {
  "kernelspec": {
   "display_name": "Python [conda env:base] *",
   "language": "python",
   "name": "conda-base-py"
  },
  "language_info": {
   "codemirror_mode": {
    "name": "ipython",
    "version": 3
   },
   "file_extension": ".py",
   "mimetype": "text/x-python",
   "name": "python",
   "nbconvert_exporter": "python",
   "pygments_lexer": "ipython3",
   "version": "3.13.5"
  }
 },
 "nbformat": 4,
 "nbformat_minor": 5
}
